{
 "cells": [
  {
   "cell_type": "code",
   "execution_count": null,
   "id": "b88a17c6-c4b0-4f05-9e5f-090422862580",
   "metadata": {},
   "outputs": [],
   "source": [
    "from datetime import datetime\n",
    "from pathlib import Path\n",
    "\n",
    "import matplotlib.pyplot as plt\n",
    "import polars as pl\n",
    "import yaml\n",
    "\n",
    "from nixos.survey_analysis.answers import (\n",
    "    get_answers_by_choice_id,\n",
    "    get_categorical_question_answers,\n",
    ")\n",
    "from nixos.survey_analysis.config import Config\n",
    "from nixos.survey_analysis.plot import (\n",
    "    NotMultileChoicesQuestion,\n",
    "    plot_categorical_question,\n",
    "    plot_multiple_choices_question,\n",
    ")\n",
    "\n",
    "from nixos.survey_analysis.questions import (\n",
    "    Choice,\n",
    "    ChoicesByQuestionIdByType,\n",
    "    group_by_question_type,\n",
    "    group_choices_by_question_id,\n",
    "    ungrouped_choices_from_columns,\n",
    ")"
   ]
  },
  {
   "cell_type": "code",
   "execution_count": null,
   "id": "d8bad8a0-61c5-4afc-95df-75eb12714efc",
   "metadata": {},
   "outputs": [],
   "source": [
    "with open(\"../configs/2023.yml\") as f:\n",
    "    config = Config.model_validate(yaml.safe_load(f))\n",
    "\n",
    "df = pl.read_csv(\"../data/results-survey2023.csv\")\n",
    "questions_by_id = group_choices_by_question_id(\n",
    "    ungrouped_choices_from_columns(\n",
    "        columns=df.columns,\n",
    "    ),\n",
    ")\n",
    "# remove choices that are excluded in the config\n",
    "for question_id, choices in questions_by_id.items():\n",
    "    if question_id not in config.questions:\n",
    "        continue\n",
    "    choices_to_exclude = config.questions[question_id].exclude\n",
    "    if choices_to_exclude is None:\n",
    "        continue\n",
    "    questions_by_id[question_id] = [\n",
    "        choice for choice in choices if choice.choice_id not in choices_to_exclude\n",
    "    ]\n",
    "questions_by_id_by_type = group_by_question_type(\n",
    "    choices_by_question_id=questions_by_id,\n",
    "    df=df,\n",
    ")"
   ]
  },
  {
   "cell_type": "code",
   "execution_count": null,
   "id": "2899c15f-3d1e-4cad-9aca-89f6c20ff2ec",
   "metadata": {
    "scrolled": true
   },
   "outputs": [],
   "source": [
    "gender_column = questions_by_id_by_type.categorical[\"gender\"][0].column\n",
    "region_column = questions_by_id_by_type.categorical[\"region\"][0].column\n",
    "gender_column, region_column"
   ]
  },
  {
   "cell_type": "code",
   "execution_count": null,
   "id": "a61c8ee8-17f2-4426-b9a6-87024c502f1b",
   "metadata": {},
   "outputs": [],
   "source": [
    "df_count_gender_per_region = (\n",
    "    df\n",
    "    .rename({gender_column: \"gender\", region_column: \"region\"})\n",
    "    .with_columns(\n",
    "        pl.col(\"gender\").apply(lambda x: \"Not answered\" if x == \"\" else x),\n",
    "        pl.col(\"region\").apply(lambda x: \"Not answered\" if x == \"\" else x),\n",
    "    )\n",
    "    .groupby(by=[\"region\", \"gender\"])\n",
    "    .count()\n",
    "    .pivot(index=\"region\", columns=\"gender\", aggregate_function=\"sum\", values=\"count\")\n",
    "    .to_pandas()\n",
    "    .set_index(\"region\")\n",
    ")"
   ]
  },
  {
   "cell_type": "code",
   "execution_count": null,
   "id": "cb055d65-6869-4385-a3ba-d0d21cb603e0",
   "metadata": {},
   "outputs": [],
   "source": [
    "ax = df_count_gender_per_region.plot.bar(figsize=(20, 5))\n",
    "for container in ax.containers:\n",
    "    ax.bar_label(container)"
   ]
  }
 ],
 "metadata": {
  "kernelspec": {
   "display_name": "Python 3 (ipykernel)",
   "language": "python",
   "name": "python3"
  },
  "language_info": {
   "codemirror_mode": {
    "name": "ipython",
    "version": 3
   },
   "file_extension": ".py",
   "mimetype": "text/x-python",
   "name": "python",
   "nbconvert_exporter": "python",
   "pygments_lexer": "ipython3",
   "version": "3.11.6"
  }
 },
 "nbformat": 4,
 "nbformat_minor": 5
}
